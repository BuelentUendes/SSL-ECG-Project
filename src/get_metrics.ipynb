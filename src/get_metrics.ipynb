{
 "cells": [
  {
   "cell_type": "code",
   "execution_count": null,
   "metadata": {},
   "outputs": [],
   "source": [
    "# First part remains the same\n",
    "import mlflow\n",
    "from metaflow import Flow\n",
    "import pandas as pd\n",
    "import numpy as np\n",
    "import matplotlib.pyplot as plt\n",
    "\n",
    "# Connect to MLflow\n",
    "mlflow.set_tracking_uri(\"http://127.0.0.1:5000\")\n",
    "\n",
    "# Get the latest run from your ECGSimpleTrainingFlow\n",
    "flow = Flow('ECGSimpleTrainingFlow')\n",
    "latest_run = list(flow)[-1]  # Get the most recent run\n",
    "\n",
    "# Get the MLflow run ID from Metaflow\n",
    "mlflow_run_id = latest_run.data.mlflow_run_id\n",
    "\n",
    "# Fetch the run from MLflow\n",
    "run = mlflow.get_run(mlflow_run_id)\n",
    "\n",
    "# Get metrics as a dictionary and display them\n",
    "metrics = run.data.metrics\n",
    "metrics_df = pd.DataFrame([metrics]).T\n",
    "metrics_df.columns = ['Value']\n",
    "display(metrics_df)\n",
    "\n",
    "# Access training history from Metaflow\n",
    "training_history = latest_run.data.train_history\n",
    "\n",
    "# Create DataFrame with training history\n",
    "history_df = pd.DataFrame(training_history)\n",
    "\n",
    "# Plot training curves\n",
    "plt.figure(figsize=(12, 4))\n",
    "\n",
    "plt.subplot(1, 2, 1)\n",
    "plt.plot(history_df['binary_accuracy'], label='Training Accuracy')\n",
    "plt.plot(history_df['val_binary_accuracy'], label='Validation Accuracy')\n",
    "plt.title('Model Accuracy')\n",
    "plt.xlabel('Epoch')\n",
    "plt.ylabel('Accuracy')\n",
    "plt.legend()\n",
    "\n",
    "plt.subplot(1, 2, 2)\n",
    "plt.plot(history_df['loss'], label='Training Loss')\n",
    "plt.plot(history_df['val_loss'], label='Validation Loss')\n",
    "plt.title('Model Loss')\n",
    "plt.xlabel('Epoch')\n",
    "plt.ylabel('Loss')\n",
    "plt.legend()\n",
    "\n",
    "plt.tight_layout()\n",
    "plt.show()"
   ]
  }
 ],
 "metadata": {
  "kernelspec": {
   "display_name": "ECG-Project",
   "language": "python",
   "name": "python3"
  },
  "language_info": {
   "codemirror_mode": {
    "name": "ipython",
    "version": 3
   },
   "file_extension": ".py",
   "mimetype": "text/x-python",
   "name": "python",
   "nbconvert_exporter": "python",
   "pygments_lexer": "ipython3",
   "version": "3.11.11"
  }
 },
 "nbformat": 4,
 "nbformat_minor": 2
}
